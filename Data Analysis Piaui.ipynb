{
 "cells": [
  {
   "cell_type": "code",
   "execution_count": 1,
   "id": "nORltS-txxEk",
   "metadata": {
    "colab": {
     "base_uri": "https://localhost:8080/"
    },
    "id": "nORltS-txxEk",
    "outputId": "97fcc60a-f671-49a2-9639-00d7979d84b3"
   },
   "outputs": [],
   "source": [
    "import pandas as pd\n",
    "df = pd.read_csv('/home/joao/Downloads/dados-pi.csv', sep = ';', encoding = 'ISO-8859-1')"
   ]
  },
  {
   "cell_type": "code",
   "execution_count": 2,
   "id": "648238a5",
   "metadata": {
    "id": "648238a5"
   },
   "outputs": [],
   "source": [
    "import pandas as pd\n",
    "drivepath = '/content/drive/MyDrive/USP/5º Semestre/Estatistica/Trab/dados-pi.csv'\n",
    "df = pd.read_csv(drivepath, sep = ';', encoding = 'ISO-8859-1')"
   ]
  },
  {
   "cell_type": "markdown",
   "id": "7eb33fba",
   "metadata": {
    "id": "7eb33fba"
   },
   "source": [
    "<h1>Questão 15</h1>\n",
    "<p>Qual sexo é mais sucetível a cura?</p>"
   ]
  },
  {
   "cell_type": "code",
   "execution_count": 45,
   "id": "cc47a267",
   "metadata": {
    "id": "cc47a267"
   },
   "outputs": [],
   "source": [
    "#Questao 15\n",
    "\n",
    "curados = df[df['evolucaoCaso'] == 'Cura']"
   ]
  },
  {
   "cell_type": "code",
   "execution_count": 4,
   "id": "46395e1a",
   "metadata": {
    "colab": {
     "base_uri": "https://localhost:8080/"
    },
    "id": "46395e1a",
    "outputId": "53d6ef53-5788-4952-8df3-e5648afcecc4"
   },
   "outputs": [
    {
     "data": {
      "text/plain": [
       "sexo\n",
       "Feminino      64259\n",
       "Indefinido      602\n",
       "Masculino     52489\n",
       "Name: ÿid, dtype: int64"
      ]
     },
     "execution_count": 4,
     "metadata": {},
     "output_type": "execute_result"
    }
   ],
   "source": [
    "sexo = curados.groupby('sexo')\n",
    "sexo['ÿid'].count() "
   ]
  },
  {
   "cell_type": "code",
   "execution_count": 39,
   "id": "0dc935bc",
   "metadata": {
    "colab": {
     "base_uri": "https://localhost:8080/"
    },
    "id": "0dc935bc",
    "outputId": "f8191a34-9e89-4336-facc-c66669ec0c87"
   },
   "outputs": [
    {
     "data": {
      "text/plain": [
       "sexo\n",
       "Feminino      120700\n",
       "Indefinido       606\n",
       "Masculino      96398\n",
       "Name: ÿid, dtype: int64"
      ]
     },
     "execution_count": 39,
     "metadata": {},
     "output_type": "execute_result"
    }
   ],
   "source": [
    "geralComEvolucaoFinal = df[df['evolucaoCaso'].notna()]\n",
    "geralComEvolucaoFinalAgrupado = geralComEvolucaoFinal.groupby('sexo')\n",
    "geralComEvolucaoFinalAgrupado['ÿid'].count()"
   ]
  },
  {
   "cell_type": "code",
   "execution_count": 42,
   "id": "10HP1ruW02Iy",
   "metadata": {
    "colab": {
     "base_uri": "https://localhost:8080/"
    },
    "id": "10HP1ruW02Iy",
    "outputId": "0663b958-15ed-46fe-885c-2219de3e59dd"
   },
   "outputs": [
    {
     "name": "stdout",
     "output_type": "stream",
     "text": [
      "Curados Femininos: 64259. Curados Masculinos: 52489.\n",
      "Total Feminino com evolução final de caso: 120700.  Total Masculino com evolução final de caso: 96398.\n",
      "Porcentagem de cura feminina: 53.23860811930407%.\n",
      "Porcentagem de cura masculina: 54.45029979875101%.\n"
     ]
    }
   ],
   "source": [
    "curadosFem = curados[curados['sexo'] == \"Feminino\"]\n",
    "curadosMasc = curados[curados['sexo'] == \"Masculino\"]\n",
    "\n",
    "FemComEvolucaoFinal = geralComEvolucaoFinal[geralComEvolucaoFinal['sexo'] == 'Feminino']\n",
    "MascComEvolucaoFinal = geralComEvolucaoFinal[geralComEvolucaoFinal['sexo'] == 'Masculino']\n",
    "\n",
    "print(f\"Curados Femininos: {len(curadosFem)}. Curados Masculinos: {len(curadosMasc)}.\\nTotal Feminino com evolução final de caso: {len(FemComEvolucaoFinal)}.  Total Masculino com evolução final de caso: {len(MascComEvolucaoFinal)}.\")\n",
    "\n",
    "print(f\"Porcentagem de cura feminina: {len(curadosFem)/len(FemComEvolucaoFinal)*100}%.\\nPorcentagem de cura masculina: {len(curadosMasc)/len(MascComEvolucaoFinal)*100}%.\")"
   ]
  },
  {
   "cell_type": "markdown",
   "id": "5bf149c0",
   "metadata": {
    "id": "5bf149c0"
   },
   "source": [
    "<h1 style = \"color: blue\">  Com isso chegamos às seguinte conclusões:"
   ]
  },
  {
   "cell_type": "markdown",
   "id": "ba90f3ab",
   "metadata": {
    "id": "ba90f3ab"
   },
   "source": [
    "<h3> Para o sexo feminino, havendo uma quantia de 64259 pessoas curadas, num total de 120700 analisadas, tem-se uma porcentagem de <i>53.24%</i>"
   ]
  },
  {
   "cell_type": "markdown",
   "id": "bde9c120",
   "metadata": {
    "id": "bde9c120"
   },
   "source": [
    "<h3>Para o sexo masculino, havendo uma quantia de 52489 pessoas curadas, num total de 96398 analisadas, tem-se uma porcentagem de <i>54.45%"
   ]
  },
  {
   "cell_type": "markdown",
   "id": "28014123",
   "metadata": {
    "id": "28014123"
   },
   "source": [
    "<h1 style = \"color: blue\">  Análise dos resultados:"
   ]
  },
  {
   "cell_type": "markdown",
   "id": "1f4d7013",
   "metadata": {
    "id": "1f4d7013"
   },
   "source": [
    "<h4> Á priori, pelos dados trabalhados infere-se que o sexo masculino é ligeiramente mais suscetível à se curar quando comparado com o sexo feminino.\n",
    "    Entretanto, algumas variáveis devem ser analisadas. Sabemos que o COVID tem uma taxa de mortalidade por volta de 4%, como sugere estudos mais recentes. Contudo, nos dados estudados, apenas em torno de 50% se curaram.\n",
    "    Com o valor encontrado, é pode-se afirmar que homens e mulheres são similarmente suscetíveis a se curarem."
   ]
  },
  {
   "cell_type": "markdown",
   "id": "16643ab1",
   "metadata": {
    "id": "16643ab1"
   },
   "source": [
    "<h1> Questão 34\n",
    "    "
   ]
  },
  {
   "cell_type": "code",
   "execution_count": 2,
   "id": "02979df4",
   "metadata": {
    "id": "02979df4",
    "outputId": "670e84ed-e50f-467a-d24e-d111ed657bee",
    "scrolled": true
   },
   "outputs": [
    {
     "name": "stdout",
     "output_type": "stream",
     "text": [
      "tipoTeste\n",
      "Enzimaimunoensaio \u0013 ELISA                                    33\n",
      "Enzimaimunoensaio - ELISA IgM                               818\n",
      "Imunoensaio por Eletroquimioluminescência \u0013 ECLIA           433\n",
      "Imunoensaio por Eletroquimioluminescência - ECLIA IgG       478\n",
      "Quimioluminescência - CLIA                                 1786\n",
      "RT-PCR                                                    98499\n",
      "TESTE RÁPIDO - ANTICORPO                                 372929\n",
      "TESTE RÁPIDO - ANTÍGENO                                   93459\n",
      "Name: ÿid, dtype: int64\n"
     ]
    }
   ],
   "source": [
    "testes = df.groupby('tipoTeste')\n",
    "resultado = testes['ÿid'].count()\n",
    "print(resultado)"
   ]
  },
  {
   "cell_type": "code",
   "execution_count": 27,
   "id": "c3af56a2",
   "metadata": {
    "id": "c3af56a2",
    "outputId": "846a0379-d03f-4f09-bea2-312b3c5ad2dc"
   },
   "outputs": [
    {
     "data": {
      "image/png": "[encoded data removed]",
      "text/plain": [
       "<Figure size 720x360 with 1 Axes>"
      ]
     },
     "metadata": {
      "needs_background": "light"
     },
     "output_type": "display_data"
    }
   ],
   "source": [
    "import matplotlib.pyplot as plt\n",
    "import numpy as np\n",
    "\n",
    "\n",
    "por_pos = []\n",
    "por_neg = []\n",
    "por_ind = []\n",
    "\n",
    "maior = ''\n",
    "for teste in testes.groups.keys():\n",
    "    positivos = df[(df['tipoTeste'] == teste) & (df['resultadoTeste'] == 'Positivo')]\n",
    "    negativos = df[(df['tipoTeste'] == teste) & (df['resultadoTeste'] == 'Negativo')]\n",
    "    Inconclusivos = resultado[teste] - len(positivos) - len(negativos)\n",
    "#     print('Tipo do teste: ', teste)\n",
    "#     print('Positivados: ', len(positivos))\n",
    "#     print('Negativados: ', len(negativos))\n",
    "#     print(\"Inconclusivos: \", Inconclusivos)\n",
    "#     print('Quantidade de testes: ', resultado[teste])\n",
    "    por_pos.append(len(positivos)/resultado[teste])\n",
    "    por_neg.append(len(negativos)/resultado[teste])\n",
    "    por_ind.append(Inconclusivos/resultado[teste])\n",
    "#     print('Porcentagem referente aos positivos: ', porcentagem)\n",
    "#     print('Porcentagem referente aos negativos: ', len(negativos)/resultado[teste])\n",
    "#     print('Porcentagem referente aos inconclusivos: ', Inconclusivos/resultado[teste])\n",
    "    \n",
    "\n",
    "\n",
    "plt.figure(figsize=(10,5))\n",
    "barWidth = 0.25\n",
    "r1 = np.arange(len(por_pos))\n",
    "r2 = [x + barWidth for x in r1]\n",
    "r3 = [x + barWidth for x in r2]\n",
    "\n",
    "plt.bar(r1, por_pos, width = barWidth, label = 'Positivos', color = 'green')\n",
    "plt.bar(r2, por_neg, width = barWidth, label = 'Negativos', color = 'red')\n",
    "plt.bar(r3, por_ind, width = barWidth, label = 'Inconclusivos', color = 'black')\n",
    "\n",
    "plt.xlabel('Tipos de teste')\n",
    "\n",
    "teste_simple_names = ['ELISA', 'ELISA IGM', 'ECLIA', 'ECLIA IgG', 'CLIA', 'RT-PCR', 'ANTICORPO', 'ANTIGENO' ]\n",
    "plt.xticks([r + barWidth for r in range(len(por_pos))], teste_simple_names )\n",
    "plt.ylabel('Porcentagem')\n",
    "\n",
    "plt.legend()\n",
    "plt.show()\n",
    "    #print()"
   ]
  },
  {
   "cell_type": "markdown",
   "id": "BIU9wGiWHbk6",
   "metadata": {
    "id": "BIU9wGiWHbk6"
   },
   "source": [
    "<h1> Questão 29"
   ]
  },
  {
   "cell_type": "code",
   "execution_count": null,
   "id": "rN4zzyaILD9S",
   "metadata": {
    "id": "rN4zzyaILD9S"
   },
   "outputs": [],
   "source": [
    "pregnant_rows =  [\n",
    "  'Diabetes, Gestante',\n",
    "  'Diabetes, Gestante de alto risco',\n",
    "  'Doenças cardíacas crônicas, Diabetes, Gestante',\n",
    "  'Doenças cardíacas crônicas, Gestante',\n",
    "  'Doenças cardíacas crônicas, Gestante de alto risco',\n",
    "  'Doenças respiratórias crônicas descompensadas, Diabetes, Portador de doenças cromossômicas ou estado de fragilidade imunológica, Imunossupressão, Gestante, Puérpera (até 45 dias do parto)',\n",
    "  'Doenças respiratórias crônicas descompensadas, Doenças cardíacas crônicas, Gestante de alto risco',\n",
    "  'Doenças respiratórias crônicas descompensadas, Doenças renais crônicas em estágio avançado (graus 3, 4 ou 5), Portador de doenças cromossômicas ou estado de fragilidade imunológica, Diabetes, Imunossupressão, Doenças cardíacas crônicas, Gestante',\n",
    "  'Doenças respiratórias crônicas descompensadas, Gestante',\n",
    "  'Doenças respiratórias crônicas descompensadas, Gestante de alto risco',\n",
    "  'Gestante',\n",
    "  'Gestante de alto risco',\n",
    "  'Gestante de alto risco, Diabetes, Doenças cardíacas crônicas',\n",
    "  'Gestante de alto risco, Doenças respiratórias crônicas descompensadas',\n",
    "  'Gestante, Diabetes',\n",
    "  'Gestante, Doenças cardíacas crônicas',\n",
    "  'Gestante, Doenças respiratórias crônicas descompensadas',\n",
    "  'Gestante, Imunossupressão',\n",
    "  'Gestante, Obesidade',\n",
    "  'Gestante, Obesidade, Doenças cardíacas crônicas',\n",
    "  'Gestante, Puérpera (até 45 dias do parto)',\n",
    "  'Imunossupressão, Gestante',\n",
    "  'Obesidade, Gestante',\n",
    "]\n",
    "\n",
    "condition_rows = [\n",
    "      'Internado',\n",
    "      'Internado em UTI',\n",
    "      'Óbito'            \n",
    "]"
   ]
  },
  {
   "cell_type": "code",
   "execution_count": null,
   "id": "IKJHXX_A9kZw",
   "metadata": {
    "id": "IKJHXX_A9kZw"
   },
   "outputs": [],
   "source": [
    "X = df[['sexo','idade','evolucaoCaso', 'condicoes']]\n",
    "X = X[X['evolucaoCaso'].notna()]\n",
    "X = X[X['condicoes'].notna()]\n",
    "X = X[X['sexo'] =='Feminino']\n",
    "X['Caso Grave'] = np.where((X.evolucaoCaso.isin(condition_rows)), 'Sim', 'Não')\n",
    "X['Gravidez'] = np.where(X.condicoes.isin(pregnant_rows), 'Sim', 'Não')\n",
    "X = X.drop(['evolucaoCaso'], axis=1 )\n",
    "X = X.drop(['condicoes'], axis=1 )"
   ]
  },
  {
   "cell_type": "code",
   "execution_count": null,
   "id": "Vv9PfZPb6yY_",
   "metadata": {
    "colab": {
     "base_uri": "https://localhost:8080/"
    },
    "id": "Vv9PfZPb6yY_",
    "outputId": "ccc0794a-c35e-47ff-8ccb-711e2104d084"
   },
   "outputs": [
    {
     "name": "stdout",
     "output_type": "stream",
     "text": [
      "Quantidade de Mulheres registradas: 12333\n",
      "Quantidade de Mulheres Gravidas: 1418\n",
      "Quantidade de Mulheres Não Gravidas: 10915\n"
     ]
    }
   ],
   "source": [
    "print('Quantidade de Mulheres registradas:', len(X))\n",
    "gravidez = X['Gravidez'].value_counts().Sim\n",
    "print('Quantidade de Mulheres Gravidas:', gravidez)\n",
    "print('Quantidade de Mulheres Não Gravidas:', len(X)-gravidez)"
   ]
  },
  {
   "cell_type": "code",
   "execution_count": null,
   "id": "EnC-zdWE84cF",
   "metadata": {
    "colab": {
     "base_uri": "https://localhost:8080/"
    },
    "id": "EnC-zdWE84cF",
    "outputId": "f44bfaa5-bfaf-4501-fec9-70936213baa8"
   },
   "outputs": [
    {
     "name": "stdout",
     "output_type": "stream",
     "text": [
      "Mulheres Gravidas: 1418\n",
      "Quantidade de Mulheres Gravidas com Casos Graves:  23\n",
      "Quantidade de Mulheres Gravidas com Casos Graves:  1395\n",
      "Porcentagem Referente aos Casos Graves para Mulheres Grávidas 0.01622002820874471\n"
     ]
    }
   ],
   "source": [
    "y = X[X['Gravidez']=='Sim']\n",
    "print('Mulheres Grávidas:', len(y))\n",
    "graves = y['Caso Grave'].value_counts().Sim\n",
    "print('Quantidade de Mulheres Grávidas com Casos Graves: ', graves)\n",
    "print('Quantidade de Mulheres Grávidas com Casos Graves: ', len(y) - graves)\n",
    "print('Porcentagem Referente aos Casos Graves para Mulheres Grávidas', graves/(len(y)))"
   ]
  },
  {
   "cell_type": "code",
   "execution_count": null,
   "id": "0MZk7kMz_-p1",
   "metadata": {
    "colab": {
     "base_uri": "https://localhost:8080/"
    },
    "id": "0MZk7kMz_-p1",
    "outputId": "ee28148e-bbfb-47bf-fcc6-915d08d6dd7e"
   },
   "outputs": [
    {
     "name": "stdout",
     "output_type": "stream",
     "text": [
      "Mulheres não Grávidas: 10915\n",
      "Quantidade de Mulheres Não Grávidas com Casos Graves:  292\n",
      "Quantidade de Mulheres Não Grávidas com Casos Graves:  10623\n",
      "Porcentagem Referente aos Casos Graves para Mulheres Não Grávidas 0.02675217590471828\n"
     ]
    }
   ],
   "source": [
    "y = X[X['Gravidez']=='Não']\n",
    "print('Mulheres não Grávidas:',len(y))\n",
    "graves = y['Caso Grave'].value_counts().Sim\n",
    "print('Quantidade de Mulheres Não Grávidas com Casos Graves: ', graves)\n",
    "print('Quantidade de Mulheres Não Grávidas com Casos Graves: ', len(y) - graves)\n",
    "print('Porcentagem Referente aos Casos Graves para Mulheres Não Grávidas', graves/(len(y)))"
   ]
  },
  {
   "cell_type": "code",
   "execution_count": null,
   "id": "MZLnA2A0Z_uk",
   "metadata": {
    "colab": {
     "base_uri": "https://localhost:8080/",
     "height": 314
    },
    "id": "MZLnA2A0Z_uk",
    "outputId": "c812cf50-3697-4f53-9a02-792c6c6cddd5"
   },
   "outputs": [
    {
     "data": {
      "image/png": "[encoded data removed]",
      "text/plain": [
       "<Figure size 432x288 with 1 Axes>"
      ]
     },
     "metadata": {},
     "output_type": "display_data"
    }
   ],
   "source": [
    "import matplotlib.pyplot as plt\n",
    "plt.suptitle(\"Gráfico: Casos Graves x Faixa Etária\", size = 18)\n",
    "sns.set_theme(style=\"whitegrid\")\n",
    "\n",
    "\n",
    "# Draw a nested violinplot and split the violins for easier comparison\n",
    "sns.violinplot(data=X, x=\"Gravidez\", y=\"idade\", hue=\"Caso Grave\",\n",
    "               split=True, inner=\"quart\", linewidth=1,\n",
    "               palette={\"Sim\": \"b\", \"Não\": \".85\"}\n",
    "               )\n",
    "sns.despine(left=True)"
   ]
  },
  {
   "cell_type": "markdown",
   "id": "TsCwweV1JIVv",
   "metadata": {
    "id": "TsCwweV1JIVv"
   },
   "source": [
    "<h1 style = \"color: blue\">  Análise dos resultados:"
   ]
  },
  {
   "cell_type": "markdown",
   "id": "2xRwDiboJSzx",
   "metadata": {
    "id": "2xRwDiboJSzx"
   },
   "source": [
    "<h4> Por meio do gráfico acima é possivel realizar um paralelo entre os casos graves de mulheres gestantes e não gestantes. É perceptível um número mais elevado de casos graves na faixa de 20-40 anos entre as mulheres grávidas. Além disso, é possível perceber que nas mulheres não grávidas a chance de ser considera um caso grave ocorre na faixa dos 60-80 anos. "
   ]
  },
  {
   "cell_type": "code",
   "execution_count": null,
   "id": "EnN6x7W7JKJC",
   "metadata": {
    "id": "EnN6x7W7JKJC"
   },
   "outputs": [],
   "source": []
  }
 ],
 "metadata": {
  "colab": {
   "collapsed_sections": [],
   "name": "Estati.ipynb",
   "provenance": []
  },
  "kernelspec": {
   "display_name": "Python 3 (ipykernel)",
   "language": "python",
   "name": "python3"
  },
  "language_info": {
   "codemirror_mode": {
    "name": "ipython",
    "version": 3
   },
   "file_extension": ".py",
   "mimetype": "text/x-python",
   "name": "python",
   "nbconvert_exporter": "python",
   "pygments_lexer": "ipython3",
   "version": "3.8.10"
  }
 },
 "nbformat": 4,
 "nbformat_minor": 5
}
